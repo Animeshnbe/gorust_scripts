{
 "cells": [
  {
   "cell_type": "markdown",
   "metadata": {},
   "source": [
    "# Computational finance on stocks"
   ]
  },
  {
   "cell_type": "markdown",
   "metadata": {},
   "source": [
    "### Importing Libraries"
   ]
  },
  {
   "cell_type": "code",
   "execution_count": 3,
   "metadata": {},
   "outputs": [],
   "source": [
    "import pandas as pd\n",
    "import numpy as np\n",
    "import yfinance as yf\n",
    "import matplotlib.pyplot as plt"
   ]
  },
  {
   "cell_type": "code",
   "execution_count": 5,
   "metadata": {},
   "outputs": [],
   "source": [
    "# S&P 500\n",
    "start_date = '2005-01-01'\n",
    "end_date = '2023-04-01'\n",
    "ticker = 'SPY'"
   ]
  },
  {
   "cell_type": "code",
   "execution_count": 6,
   "metadata": {},
   "outputs": [
    {
     "name": "stdout",
     "output_type": "stream",
     "text": [
      "[*********************100%***********************]  1 of 1 completed\n"
     ]
    }
   ],
   "source": [
    "df = yf.download(ticker, start_date, end_date)"
   ]
  },
  {
   "cell_type": "code",
   "execution_count": 7,
   "metadata": {},
   "outputs": [
    {
     "data": {
      "text/html": [
       "<div>\n",
       "<style scoped>\n",
       "    .dataframe tbody tr th:only-of-type {\n",
       "        vertical-align: middle;\n",
       "    }\n",
       "\n",
       "    .dataframe tbody tr th {\n",
       "        vertical-align: top;\n",
       "    }\n",
       "\n",
       "    .dataframe thead th {\n",
       "        text-align: right;\n",
       "    }\n",
       "</style>\n",
       "<table border=\"1\" class=\"dataframe\">\n",
       "  <thead>\n",
       "    <tr style=\"text-align: right;\">\n",
       "      <th></th>\n",
       "      <th>Open</th>\n",
       "      <th>High</th>\n",
       "      <th>Low</th>\n",
       "      <th>Close</th>\n",
       "      <th>Adj Close</th>\n",
       "      <th>Volume</th>\n",
       "    </tr>\n",
       "    <tr>\n",
       "      <th>Date</th>\n",
       "      <th></th>\n",
       "      <th></th>\n",
       "      <th></th>\n",
       "      <th></th>\n",
       "      <th></th>\n",
       "      <th></th>\n",
       "    </tr>\n",
       "  </thead>\n",
       "  <tbody>\n",
       "    <tr>\n",
       "      <th>2005-01-03</th>\n",
       "      <td>121.559998</td>\n",
       "      <td>121.760002</td>\n",
       "      <td>119.900002</td>\n",
       "      <td>120.300003</td>\n",
       "      <td>84.258591</td>\n",
       "      <td>55748000</td>\n",
       "    </tr>\n",
       "    <tr>\n",
       "      <th>2005-01-04</th>\n",
       "      <td>120.459999</td>\n",
       "      <td>120.540001</td>\n",
       "      <td>118.440002</td>\n",
       "      <td>118.830002</td>\n",
       "      <td>83.228981</td>\n",
       "      <td>69167600</td>\n",
       "    </tr>\n",
       "    <tr>\n",
       "      <th>2005-01-05</th>\n",
       "      <td>118.739998</td>\n",
       "      <td>119.250000</td>\n",
       "      <td>118.000000</td>\n",
       "      <td>118.010002</td>\n",
       "      <td>82.654648</td>\n",
       "      <td>65667300</td>\n",
       "    </tr>\n",
       "    <tr>\n",
       "      <th>2005-01-06</th>\n",
       "      <td>118.440002</td>\n",
       "      <td>119.150002</td>\n",
       "      <td>118.260002</td>\n",
       "      <td>118.610001</td>\n",
       "      <td>83.074875</td>\n",
       "      <td>47814700</td>\n",
       "    </tr>\n",
       "    <tr>\n",
       "      <th>2005-01-07</th>\n",
       "      <td>118.970001</td>\n",
       "      <td>119.230003</td>\n",
       "      <td>118.129997</td>\n",
       "      <td>118.440002</td>\n",
       "      <td>82.955856</td>\n",
       "      <td>55847700</td>\n",
       "    </tr>\n",
       "  </tbody>\n",
       "</table>\n",
       "</div>"
      ],
      "text/plain": [
       "                  Open        High         Low       Close  Adj Close  \\\n",
       "Date                                                                    \n",
       "2005-01-03  121.559998  121.760002  119.900002  120.300003  84.258591   \n",
       "2005-01-04  120.459999  120.540001  118.440002  118.830002  83.228981   \n",
       "2005-01-05  118.739998  119.250000  118.000000  118.010002  82.654648   \n",
       "2005-01-06  118.440002  119.150002  118.260002  118.610001  83.074875   \n",
       "2005-01-07  118.970001  119.230003  118.129997  118.440002  82.955856   \n",
       "\n",
       "              Volume  \n",
       "Date                  \n",
       "2005-01-03  55748000  \n",
       "2005-01-04  69167600  \n",
       "2005-01-05  65667300  \n",
       "2005-01-06  47814700  \n",
       "2005-01-07  55847700  "
      ]
     },
     "execution_count": 7,
     "metadata": {},
     "output_type": "execute_result"
    }
   ],
   "source": [
    "df.head()"
   ]
  },
  {
   "cell_type": "code",
   "execution_count": 8,
   "metadata": {},
   "outputs": [
    {
     "data": {
      "text/html": [
       "<div>\n",
       "<style scoped>\n",
       "    .dataframe tbody tr th:only-of-type {\n",
       "        vertical-align: middle;\n",
       "    }\n",
       "\n",
       "    .dataframe tbody tr th {\n",
       "        vertical-align: top;\n",
       "    }\n",
       "\n",
       "    .dataframe thead th {\n",
       "        text-align: right;\n",
       "    }\n",
       "</style>\n",
       "<table border=\"1\" class=\"dataframe\">\n",
       "  <thead>\n",
       "    <tr style=\"text-align: right;\">\n",
       "      <th></th>\n",
       "      <th>Open</th>\n",
       "      <th>High</th>\n",
       "      <th>Low</th>\n",
       "      <th>Close</th>\n",
       "      <th>Adj Close</th>\n",
       "      <th>Volume</th>\n",
       "    </tr>\n",
       "  </thead>\n",
       "  <tbody>\n",
       "    <tr>\n",
       "      <th>2005-01-03</th>\n",
       "      <td>121.559998</td>\n",
       "      <td>121.760002</td>\n",
       "      <td>119.900002</td>\n",
       "      <td>120.300003</td>\n",
       "      <td>84.258591</td>\n",
       "      <td>55748000</td>\n",
       "    </tr>\n",
       "    <tr>\n",
       "      <th>2005-01-04</th>\n",
       "      <td>120.459999</td>\n",
       "      <td>120.540001</td>\n",
       "      <td>118.440002</td>\n",
       "      <td>118.830002</td>\n",
       "      <td>83.228981</td>\n",
       "      <td>69167600</td>\n",
       "    </tr>\n",
       "    <tr>\n",
       "      <th>2005-01-05</th>\n",
       "      <td>118.739998</td>\n",
       "      <td>119.250000</td>\n",
       "      <td>118.000000</td>\n",
       "      <td>118.010002</td>\n",
       "      <td>82.654648</td>\n",
       "      <td>65667300</td>\n",
       "    </tr>\n",
       "    <tr>\n",
       "      <th>2005-01-06</th>\n",
       "      <td>118.440002</td>\n",
       "      <td>119.150002</td>\n",
       "      <td>118.260002</td>\n",
       "      <td>118.610001</td>\n",
       "      <td>83.074875</td>\n",
       "      <td>47814700</td>\n",
       "    </tr>\n",
       "    <tr>\n",
       "      <th>2005-01-07</th>\n",
       "      <td>118.970001</td>\n",
       "      <td>119.230003</td>\n",
       "      <td>118.129997</td>\n",
       "      <td>118.440002</td>\n",
       "      <td>82.955856</td>\n",
       "      <td>55847700</td>\n",
       "    </tr>\n",
       "  </tbody>\n",
       "</table>\n",
       "</div>"
      ],
      "text/plain": [
       "                  Open        High         Low       Close  Adj Close  \\\n",
       "2005-01-03  121.559998  121.760002  119.900002  120.300003  84.258591   \n",
       "2005-01-04  120.459999  120.540001  118.440002  118.830002  83.228981   \n",
       "2005-01-05  118.739998  119.250000  118.000000  118.010002  82.654648   \n",
       "2005-01-06  118.440002  119.150002  118.260002  118.610001  83.074875   \n",
       "2005-01-07  118.970001  119.230003  118.129997  118.440002  82.955856   \n",
       "\n",
       "              Volume  \n",
       "2005-01-03  55748000  \n",
       "2005-01-04  69167600  \n",
       "2005-01-05  65667300  \n",
       "2005-01-06  47814700  \n",
       "2005-01-07  55847700  "
      ]
     },
     "execution_count": 8,
     "metadata": {},
     "output_type": "execute_result"
    }
   ],
   "source": [
    "df.index = df.index.date\n",
    "df.head()"
   ]
  },
  {
   "cell_type": "markdown",
   "metadata": {},
   "source": [
    "## Daily Returns"
   ]
  },
  {
   "cell_type": "code",
   "execution_count": 9,
   "metadata": {},
   "outputs": [
    {
     "data": {
      "text/html": [
       "<div>\n",
       "<style scoped>\n",
       "    .dataframe tbody tr th:only-of-type {\n",
       "        vertical-align: middle;\n",
       "    }\n",
       "\n",
       "    .dataframe tbody tr th {\n",
       "        vertical-align: top;\n",
       "    }\n",
       "\n",
       "    .dataframe thead th {\n",
       "        text-align: right;\n",
       "    }\n",
       "</style>\n",
       "<table border=\"1\" class=\"dataframe\">\n",
       "  <thead>\n",
       "    <tr style=\"text-align: right;\">\n",
       "      <th></th>\n",
       "      <th>Open</th>\n",
       "      <th>High</th>\n",
       "      <th>Low</th>\n",
       "      <th>Close</th>\n",
       "      <th>Adj Close</th>\n",
       "      <th>Volume</th>\n",
       "      <th>R</th>\n",
       "    </tr>\n",
       "  </thead>\n",
       "  <tbody>\n",
       "    <tr>\n",
       "      <th>2005-01-03</th>\n",
       "      <td>121.559998</td>\n",
       "      <td>121.760002</td>\n",
       "      <td>119.900002</td>\n",
       "      <td>120.300003</td>\n",
       "      <td>84.258591</td>\n",
       "      <td>55748000</td>\n",
       "      <td>NaN</td>\n",
       "    </tr>\n",
       "    <tr>\n",
       "      <th>2005-01-04</th>\n",
       "      <td>120.459999</td>\n",
       "      <td>120.540001</td>\n",
       "      <td>118.440002</td>\n",
       "      <td>118.830002</td>\n",
       "      <td>83.228981</td>\n",
       "      <td>69167600</td>\n",
       "      <td>-0.012220</td>\n",
       "    </tr>\n",
       "    <tr>\n",
       "      <th>2005-01-05</th>\n",
       "      <td>118.739998</td>\n",
       "      <td>119.250000</td>\n",
       "      <td>118.000000</td>\n",
       "      <td>118.010002</td>\n",
       "      <td>82.654648</td>\n",
       "      <td>65667300</td>\n",
       "      <td>-0.006901</td>\n",
       "    </tr>\n",
       "  </tbody>\n",
       "</table>\n",
       "</div>"
      ],
      "text/plain": [
       "                  Open        High         Low       Close  Adj Close  \\\n",
       "2005-01-03  121.559998  121.760002  119.900002  120.300003  84.258591   \n",
       "2005-01-04  120.459999  120.540001  118.440002  118.830002  83.228981   \n",
       "2005-01-05  118.739998  119.250000  118.000000  118.010002  82.654648   \n",
       "\n",
       "              Volume         R  \n",
       "2005-01-03  55748000       NaN  \n",
       "2005-01-04  69167600 -0.012220  \n",
       "2005-01-05  65667300 -0.006901  "
      ]
     },
     "execution_count": 9,
     "metadata": {},
     "output_type": "execute_result"
    }
   ],
   "source": [
    "df[\"R\"] = df[\"Adj Close\"].pct_change()\n",
    "df.head(3)"
   ]
  },
  {
   "cell_type": "code",
   "execution_count": 10,
   "metadata": {},
   "outputs": [
    {
     "data": {
      "text/plain": [
       "Text(0.5, 1.0, 'Daily Returns distribution')"
      ]
     },
     "execution_count": 10,
     "metadata": {},
     "output_type": "execute_result"
    },
    {
     "data": {
      "image/png": "[encoded data removed]",
      "text/plain": [
       "<Figure size 432x288 with 1 Axes>"
      ]
     },
     "metadata": {
      "needs_background": "light"
     },
     "output_type": "display_data"
    }
   ],
   "source": [
    "ax = df.R.hist(bins=50)\n",
    "ax.set_title(\"Daily Returns distribution\")"
   ]
  },
  {
   "cell_type": "code",
   "execution_count": 13,
   "metadata": {},
   "outputs": [
    {
     "data": {
      "text/plain": [
       "0.0   -0.109424\n",
       "0.1   -0.011884\n",
       "0.2   -0.006132\n",
       "0.3   -0.002823\n",
       "0.4   -0.000833\n",
       "0.5    0.000679\n",
       "0.6    0.002425\n",
       "0.7    0.004507\n",
       "0.8    0.007463\n",
       "0.9    0.012112\n",
       "1.0    0.145198\n",
       "Name: R, dtype: float64"
      ]
     },
     "execution_count": 13,
     "metadata": {},
     "output_type": "execute_result"
    }
   ],
   "source": [
    "breaks = np.arange(0,1.1,0.1)\n",
    "df.R.quantile(breaks)"
   ]
  },
  {
   "cell_type": "markdown",
   "metadata": {},
   "source": [
    "## Monthly returns "
   ]
  },
  {
   "cell_type": "code",
   "execution_count": 15,
   "metadata": {},
   "outputs": [
    {
     "data": {
      "text/html": [
       "<div>\n",
       "<style scoped>\n",
       "    .dataframe tbody tr th:only-of-type {\n",
       "        vertical-align: middle;\n",
       "    }\n",
       "\n",
       "    .dataframe tbody tr th {\n",
       "        vertical-align: top;\n",
       "    }\n",
       "\n",
       "    .dataframe thead th {\n",
       "        text-align: right;\n",
       "    }\n",
       "</style>\n",
       "<table border=\"1\" class=\"dataframe\">\n",
       "  <thead>\n",
       "    <tr style=\"text-align: right;\">\n",
       "      <th></th>\n",
       "      <th>R</th>\n",
       "    </tr>\n",
       "  </thead>\n",
       "  <tbody>\n",
       "    <tr>\n",
       "      <th>2005-01-31</th>\n",
       "      <td>-0.017789</td>\n",
       "    </tr>\n",
       "    <tr>\n",
       "      <th>2005-02-28</th>\n",
       "      <td>0.020904</td>\n",
       "    </tr>\n",
       "    <tr>\n",
       "      <th>2005-03-31</th>\n",
       "      <td>-0.018293</td>\n",
       "    </tr>\n",
       "    <tr>\n",
       "      <th>2005-04-30</th>\n",
       "      <td>-0.018736</td>\n",
       "    </tr>\n",
       "    <tr>\n",
       "      <th>2005-05-31</th>\n",
       "      <td>0.032225</td>\n",
       "    </tr>\n",
       "  </tbody>\n",
       "</table>\n",
       "</div>"
      ],
      "text/plain": [
       "                   R\n",
       "2005-01-31 -0.017789\n",
       "2005-02-28  0.020904\n",
       "2005-03-31 -0.018293\n",
       "2005-04-30 -0.018736\n",
       "2005-05-31  0.032225"
      ]
     },
     "execution_count": 15,
     "metadata": {},
     "output_type": "execute_result"
    }
   ],
   "source": [
    "df.index = pd.to_datetime(df.index)\n",
    "\n",
    "monthly_ret = df.R.resample(\"M\").agg(lambda x: (1+x).prod() - 1)\n",
    "monthly_ret = monthly_ret.to_frame()\n",
    "monthly_ret.head()"
   ]
  },
  {
   "cell_type": "code",
   "execution_count": 16,
   "metadata": {},
   "outputs": [
    {
     "data": {
      "text/plain": [
       "Text(0.5, 1.0, 'Monthly Returns')"
      ]
     },
     "execution_count": 16,
     "metadata": {},
     "output_type": "execute_result"
    },
    {
     "data": {
      "image/png": "[encoded data removed]",
      "text/plain": [
       "<Figure size 432x288 with 1 Axes>"
      ]
     },
     "metadata": {
      "needs_background": "light"
     },
     "output_type": "display_data"
    }
   ],
   "source": [
    "ax = monthly_ret.R.hist(bins=30)\n",
    "ax.set_title(\"Monthly Returns\")"
   ]
  },
  {
   "cell_type": "code",
   "execution_count": 17,
   "metadata": {},
   "outputs": [
    {
     "data": {
      "text/plain": [
       "(0.008194895397956672,\n",
       " 0.00   -0.165187\n",
       " 0.25   -0.016224\n",
       " 0.50    0.013372\n",
       " 0.75    0.035097\n",
       " 1.00    0.126983\n",
       " Name: R, dtype: float64)"
      ]
     },
     "execution_count": 17,
     "metadata": {},
     "output_type": "execute_result"
    }
   ],
   "source": [
    "monthly_ret.R.mean(), monthly_ret.R.quantile([0., 0.25, 0.5, 0.75, 1])"
   ]
  },
  {
   "cell_type": "code",
   "execution_count": 18,
   "metadata": {},
   "outputs": [
    {
     "data": {
      "text/plain": [
       "0.10289439782923004"
      ]
     },
     "execution_count": 18,
     "metadata": {},
     "output_type": "execute_result"
    }
   ],
   "source": [
    "# Expected return\n",
    "(1+monthly_ret.R.mean()) **12 -1"
   ]
  },
  {
   "cell_type": "markdown",
   "metadata": {},
   "source": [
    "Visualizing univariate distributions"
   ]
  },
  {
   "cell_type": "code",
   "execution_count": 19,
   "metadata": {},
   "outputs": [
    {
     "data": {
      "text/plain": [
       "((array([-2.73069442, -2.42425735, -2.24987384, -2.12514902, -2.02671659,\n",
       "         -1.94472048, -1.87403316, -1.81163199, -1.7555791 , -1.70455458,\n",
       "         -1.65761721, -1.61407123, -1.57338714, -1.53515228, -1.49903847,\n",
       "         -1.46478027, -1.43215977, -1.40099581, -1.37113604, -1.3424511 ,\n",
       "         -1.31483013, -1.28817738, -1.26240956, -1.23745375, -1.21324569,\n",
       "         -1.18972849, -1.16685149, -1.1445694 , -1.12284154, -1.10163124,\n",
       "         -1.08090529, -1.06063354, -1.04078855, -1.02134519, -1.00228048,\n",
       "         -0.98357327, -0.9652041 , -0.94715496, -0.92940923, -0.91195146,\n",
       "         -0.8947673 , -0.87784338, -0.86116723, -0.8447272 , -0.82851237,\n",
       "         -0.8125125 , -0.79671797, -0.78111975, -0.7657093 , -0.75047858,\n",
       "         -0.73542001, -0.72052638, -0.70579089, -0.69120708, -0.67676883,\n",
       "         -0.6624703 , -0.64830594, -0.63427049, -0.62035888, -0.60656631,\n",
       "         -0.59288818, -0.57932009, -0.56585782, -0.55249733, -0.53923475,\n",
       "         -0.52606634, -0.51298854, -0.49999789, -0.48709108, -0.47426491,\n",
       "         -0.46151629, -0.44884225, -0.43623989, -0.42370645, -0.41123922,\n",
       "         -0.39883558, -0.386493  , -0.37420903, -0.36198126, -0.34980738,\n",
       "         -0.33768513, -0.3256123 , -0.31358674, -0.30160636, -0.28966912,\n",
       "         -0.27777302, -0.26591609, -0.25409644, -0.24231217, -0.23056147,\n",
       "         -0.21884251, -0.20715353, -0.19549279, -0.18385857, -0.17224919,\n",
       "         -0.16066297, -0.14909829, -0.13755351, -0.12602703, -0.11451728,\n",
       "         -0.10302267, -0.09154166, -0.08007271, -0.06861428, -0.05716485,\n",
       "         -0.04572291, -0.03428696, -0.02285548, -0.011427  ,  0.        ,\n",
       "          0.011427  ,  0.02285548,  0.03428696,  0.04572291,  0.05716485,\n",
       "          0.06861428,  0.08007271,  0.09154166,  0.10302267,  0.11451728,\n",
       "          0.12602703,  0.13755351,  0.14909829,  0.16066297,  0.17224919,\n",
       "          0.18385857,  0.19549279,  0.20715353,  0.21884251,  0.23056147,\n",
       "          0.24231217,  0.25409644,  0.26591609,  0.27777302,  0.28966912,\n",
       "          0.30160636,  0.31358674,  0.3256123 ,  0.33768513,  0.34980738,\n",
       "          0.36198126,  0.37420903,  0.386493  ,  0.39883558,  0.41123922,\n",
       "          0.42370645,  0.43623989,  0.44884225,  0.46151629,  0.47426491,\n",
       "          0.48709108,  0.49999789,  0.51298854,  0.52606634,  0.53923475,\n",
       "          0.55249733,  0.56585782,  0.57932009,  0.59288818,  0.60656631,\n",
       "          0.62035888,  0.63427049,  0.64830594,  0.6624703 ,  0.67676883,\n",
       "          0.69120708,  0.70579089,  0.72052638,  0.73542001,  0.75047858,\n",
       "          0.7657093 ,  0.78111975,  0.79671797,  0.8125125 ,  0.82851237,\n",
       "          0.8447272 ,  0.86116723,  0.87784338,  0.8947673 ,  0.91195146,\n",
       "          0.92940923,  0.94715496,  0.9652041 ,  0.98357327,  1.00228048,\n",
       "          1.02134519,  1.04078855,  1.06063354,  1.08090529,  1.10163124,\n",
       "          1.12284154,  1.1445694 ,  1.16685149,  1.18972849,  1.21324569,\n",
       "          1.23745375,  1.26240956,  1.28817738,  1.31483013,  1.3424511 ,\n",
       "          1.37113604,  1.40099581,  1.43215977,  1.46478027,  1.49903847,\n",
       "          1.53515228,  1.57338714,  1.61407123,  1.65761721,  1.70455458,\n",
       "          1.7555791 ,  1.81163199,  1.87403316,  1.94472048,  2.02671659,\n",
       "          2.12514902,  2.24987384,  2.42425735,  2.73069442]),\n",
       "  array([-1.65186938e-01, -1.24871231e-01, -1.07448752e-01, -9.41730629e-02,\n",
       "         -9.24459452e-02, -8.80484077e-02, -8.77690079e-02, -8.35759851e-02,\n",
       "         -8.24604539e-02, -8.21146379e-02, -7.94545559e-02, -7.91657122e-02,\n",
       "         -6.96066765e-02, -6.94207628e-02, -6.91043645e-02, -6.37712517e-02,\n",
       "         -6.09502780e-02, -6.04610431e-02, -6.00558051e-02, -5.76281935e-02,\n",
       "         -5.49760845e-02, -5.27412026e-02, -5.17411741e-02, -4.97863904e-02,\n",
       "         -4.66054183e-02, -4.49803283e-02, -4.08019859e-02, -3.87324317e-02,\n",
       "         -3.74436397e-02, -3.63602571e-02, -3.63427071e-02, -3.52484822e-02,\n",
       "         -3.13097387e-02, -3.01211839e-02, -2.99919690e-02, -2.96289735e-02,\n",
       "         -2.95169992e-02, -2.74102488e-02, -2.58424716e-02, -2.55159901e-02,\n",
       "         -2.51426838e-02, -2.49336672e-02, -2.36505213e-02, -2.03120560e-02,\n",
       "         -2.00042059e-02, -1.96181059e-02, -1.92255088e-02, -1.87355030e-02,\n",
       "         -1.82927275e-02, -1.81985643e-02, -1.77892097e-02, -1.73373034e-02,\n",
       "         -1.72825253e-02, -1.68697231e-02, -1.67429490e-02, -1.57054599e-02,\n",
       "         -1.46211308e-02, -1.37962237e-02, -1.34378965e-02, -1.33445541e-02,\n",
       "         -1.12608679e-02, -1.12144436e-02, -1.01904347e-02, -9.37460946e-03,\n",
       "         -8.98604587e-03, -8.94235541e-03, -8.03476200e-03, -6.67497359e-03,\n",
       "         -4.06376364e-03, -2.53681110e-03, -1.91328079e-03, -8.26208013e-04,\n",
       "         -6.55042633e-04, -4.03857592e-04,  2.22044605e-16,  5.81923796e-05,\n",
       "          1.20204157e-04,  1.19743240e-03,  1.24979111e-03,  1.51510927e-03,\n",
       "          2.25723377e-03,  2.60851854e-03,  2.91772474e-03,  3.47567942e-03,\n",
       "          3.65516636e-03,  3.94106275e-03,  4.47866162e-03,  5.16791821e-03,\n",
       "          5.66003147e-03,  5.72579550e-03,  5.75086331e-03,  5.94545187e-03,\n",
       "          6.37518441e-03,  6.56607707e-03,  6.95164432e-03,  8.02499926e-03,\n",
       "          8.29556204e-03,  8.93405372e-03,  9.79681658e-03,  9.83415849e-03,\n",
       "          9.92622365e-03,  1.04484960e-02,  1.15894034e-02,  1.18293300e-02,\n",
       "          1.21280664e-02,  1.26319816e-02,  1.27586246e-02,  1.28326682e-02,\n",
       "          1.28559254e-02,  1.33716939e-02,  1.35667091e-02,  1.41128043e-02,\n",
       "          1.50404994e-02,  1.51164455e-02,  1.51193431e-02,  1.54537143e-02,\n",
       "          1.54700442e-02,  1.65036112e-02,  1.70116823e-02,  1.77343615e-02,\n",
       "          1.78949895e-02,  1.81006553e-02,  1.85495455e-02,  1.91012156e-02,\n",
       "          1.92121568e-02,  1.94577003e-02,  1.98851380e-02,  2.01494468e-02,\n",
       "          2.02715401e-02,  2.05539259e-02,  2.06451300e-02,  2.09042119e-02,\n",
       "          2.18222132e-02,  2.21044957e-02,  2.24274300e-02,  2.25893935e-02,\n",
       "          2.32063070e-02,  2.33006008e-02,  2.35507659e-02,  2.35641711e-02,\n",
       "          2.36097991e-02,  2.40137813e-02,  2.43091233e-02,  2.44125786e-02,\n",
       "          2.50527674e-02,  2.53509277e-02,  2.59266535e-02,  2.70013141e-02,\n",
       "          2.74721467e-02,  2.78056299e-02,  2.89612229e-02,  2.90555452e-02,\n",
       "          2.96377604e-02,  2.97598505e-02,  3.05657924e-02,  3.11948306e-02,\n",
       "          3.15166866e-02,  3.16460772e-02,  3.19198863e-02,  3.21635275e-02,\n",
       "          3.22248660e-02,  3.24161101e-02,  3.39202367e-02,  3.47372203e-02,\n",
       "          3.54571839e-02,  3.61981783e-02,  3.64713323e-02,  3.68387480e-02,\n",
       "          3.69400563e-02,  3.70465123e-02,  3.70483763e-02,  3.70777400e-02,\n",
       "          3.75904014e-02,  3.79713267e-02,  3.82020675e-02,  3.82616530e-02,\n",
       "          3.87142037e-02,  3.92913947e-02,  3.94635463e-02,  4.05810276e-02,\n",
       "          4.08522874e-02,  4.34050905e-02,  4.39521626e-02,  4.42954275e-02,\n",
       "          4.53990776e-02,  4.55156817e-02,  4.62475955e-02,  4.63068640e-02,\n",
       "          4.63746032e-02,  4.76453098e-02,  4.76624465e-02,  5.11907068e-02,\n",
       "          5.16767457e-02,  5.29105067e-02,  5.55915510e-02,  5.62041598e-02,\n",
       "          5.63589310e-02,  5.84532196e-02,  5.88921779e-02,  6.08795678e-02,\n",
       "          6.16068887e-02,  6.28873480e-02,  6.68520041e-02,  6.72663692e-02,\n",
       "          6.83006890e-02,  6.95863958e-02,  6.97968766e-02,  7.01635067e-02,\n",
       "          7.46053291e-02,  8.00651913e-02,  8.12755847e-02,  8.33102019e-02,\n",
       "          8.50596403e-02,  8.95546960e-02,  9.20874905e-02,  9.93469231e-02,\n",
       "          1.08776784e-01,  1.09147249e-01,  1.26983454e-01])),\n",
       " (0.043498188694870085, 0.008194895397956665, 0.9846268262439408))"
      ]
     },
     "execution_count": 19,
     "metadata": {},
     "output_type": "execute_result"
    },
    {
     "data": {
      "image/png": "[encoded data removed]",
      "text/plain": [
       "<Figure size 432x288 with 1 Axes>"
      ]
     },
     "metadata": {
      "needs_background": "light"
     },
     "output_type": "display_data"
    }
   ],
   "source": [
    "from scipy import stats\n",
    "stats.probplot(monthly_ret.R, dist='norm', plot=plt)  # Q-Q plot"
   ]
  },
  {
   "cell_type": "code",
   "execution_count": 20,
   "metadata": {},
   "outputs": [
    {
     "data": {
      "text/plain": [
       "<AxesSubplot:>"
      ]
     },
     "execution_count": 20,
     "metadata": {},
     "output_type": "execute_result"
    },
    {
     "data": {
      "image/png": "[encoded data removed]",
      "text/plain": [
       "<Figure size 432x288 with 1 Axes>"
      ]
     },
     "metadata": {
      "needs_background": "light"
     },
     "output_type": "display_data"
    }
   ],
   "source": [
    "monthly_ret.R.quantile([0.25,0.5,0.75])\n",
    "monthly_ret.boxplot('R')"
   ]
  },
  {
   "cell_type": "code",
   "execution_count": 22,
   "metadata": {},
   "outputs": [
    {
     "data": {
      "image/png": "[encoded data removed]",
      "text/plain": [
       "<Figure size 1080x432 with 3 Axes>"
      ]
     },
     "metadata": {
      "needs_background": "light"
     },
     "output_type": "display_data"
    }
   ],
   "source": [
    "fig, (ax1, ax2, ax3) = plt.subplots(nrows=1, ncols=3)\n",
    "monthly_ret.R.hist(bins=30, ax=ax1)\n",
    "ax1.axvline(monthly_ret.R.mean(), color='k', linestyle='dashed', linewidth=1)\n",
    "ax1.set_title(\"Histogram of daily returns\")\n",
    "\n",
    "monthly_ret.boxplot('R', ax=ax2)\n",
    "ax2.set_title(\"Boxplot of daily returns\")\n",
    "\n",
    "stats.probplot(monthly_ret.R, dist='norm', plot=ax3)\n",
    "ax3.set_title(\"Deviation of daily returns from normal dist.\")\n",
    "\n",
    "fig.set_size_inches(15, 6)"
   ]
  },
  {
   "cell_type": "code",
   "execution_count": null,
   "metadata": {},
   "outputs": [],
   "source": []
  }
 ],
 "metadata": {
  "kernelspec": {
   "display_name": "Python 3 (ipykernel)",
   "language": "python",
   "name": "python3"
  },
  "language_info": {
   "codemirror_mode": {
    "name": "ipython",
    "version": 3
   },
   "file_extension": ".py",
   "mimetype": "text/x-python",
   "name": "python",
   "nbconvert_exporter": "python",
   "pygments_lexer": "ipython3",
   "version": "3.9.12"
  }
 },
 "nbformat": 4,
 "nbformat_minor": 2
}
