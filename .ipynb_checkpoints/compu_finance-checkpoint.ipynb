{
 "cells": [
  {
   "cell_type": "markdown",
   "metadata": {},
   "source": [
    "# Computational finance on stocks"
   ]
  },
  {
   "cell_type": "markdown",
   "metadata": {},
   "source": [
    "### Importing Libraries"
   ]
  },
  {
   "cell_type": "code",
   "execution_count": 3,
   "metadata": {},
   "outputs": [],
   "source": [
    "import pandas as pd\n",
    "import numpy as np\n",
    "import yfinance as yf\n",
    "import matplotlib.pyplot as plt"
   ]
  },
  {
   "cell_type": "code",
   "execution_count": 5,
   "metadata": {},
   "outputs": [],
   "source": [
    "start_date = '2005-01-01'\n",
    "end_date = '2023-04-01'\n",
    "ticker = 'SPY'"
   ]
  },
  {
   "cell_type": "code",
   "execution_count": 6,
   "metadata": {},
   "outputs": [
    {
     "name": "stdout",
     "output_type": "stream",
     "text": [
      "[*********************100%***********************]  1 of 1 completed\n"
     ]
    }
   ],
   "source": [
    "df = yf.download(ticker, start_date, end_date)"
   ]
  },
  {
   "cell_type": "code",
   "execution_count": 7,
   "metadata": {},
   "outputs": [
    {
     "data": {
      "text/html": [
       "<div>\n",
       "<style scoped>\n",
       "    .dataframe tbody tr th:only-of-type {\n",
       "        vertical-align: middle;\n",
       "    }\n",
       "\n",
       "    .dataframe tbody tr th {\n",
       "        vertical-align: top;\n",
       "    }\n",
       "\n",
       "    .dataframe thead th {\n",
       "        text-align: right;\n",
       "    }\n",
       "</style>\n",
       "<table border=\"1\" class=\"dataframe\">\n",
       "  <thead>\n",
       "    <tr style=\"text-align: right;\">\n",
       "      <th></th>\n",
       "      <th>Open</th>\n",
       "      <th>High</th>\n",
       "      <th>Low</th>\n",
       "      <th>Close</th>\n",
       "      <th>Adj Close</th>\n",
       "      <th>Volume</th>\n",
       "    </tr>\n",
       "    <tr>\n",
       "      <th>Date</th>\n",
       "      <th></th>\n",
       "      <th></th>\n",
       "      <th></th>\n",
       "      <th></th>\n",
       "      <th></th>\n",
       "      <th></th>\n",
       "    </tr>\n",
       "  </thead>\n",
       "  <tbody>\n",
       "    <tr>\n",
       "      <th>2005-01-03</th>\n",
       "      <td>121.559998</td>\n",
       "      <td>121.760002</td>\n",
       "      <td>119.900002</td>\n",
       "      <td>120.300003</td>\n",
       "      <td>84.258591</td>\n",
       "      <td>55748000</td>\n",
       "    </tr>\n",
       "    <tr>\n",
       "      <th>2005-01-04</th>\n",
       "      <td>120.459999</td>\n",
       "      <td>120.540001</td>\n",
       "      <td>118.440002</td>\n",
       "      <td>118.830002</td>\n",
       "      <td>83.228981</td>\n",
       "      <td>69167600</td>\n",
       "    </tr>\n",
       "    <tr>\n",
       "      <th>2005-01-05</th>\n",
       "      <td>118.739998</td>\n",
       "      <td>119.250000</td>\n",
       "      <td>118.000000</td>\n",
       "      <td>118.010002</td>\n",
       "      <td>82.654648</td>\n",
       "      <td>65667300</td>\n",
       "    </tr>\n",
       "    <tr>\n",
       "      <th>2005-01-06</th>\n",
       "      <td>118.440002</td>\n",
       "      <td>119.150002</td>\n",
       "      <td>118.260002</td>\n",
       "      <td>118.610001</td>\n",
       "      <td>83.074875</td>\n",
       "      <td>47814700</td>\n",
       "    </tr>\n",
       "    <tr>\n",
       "      <th>2005-01-07</th>\n",
       "      <td>118.970001</td>\n",
       "      <td>119.230003</td>\n",
       "      <td>118.129997</td>\n",
       "      <td>118.440002</td>\n",
       "      <td>82.955856</td>\n",
       "      <td>55847700</td>\n",
       "    </tr>\n",
       "  </tbody>\n",
       "</table>\n",
       "</div>"
      ],
      "text/plain": [
       "                  Open        High         Low       Close  Adj Close  \\\n",
       "Date                                                                    \n",
       "2005-01-03  121.559998  121.760002  119.900002  120.300003  84.258591   \n",
       "2005-01-04  120.459999  120.540001  118.440002  118.830002  83.228981   \n",
       "2005-01-05  118.739998  119.250000  118.000000  118.010002  82.654648   \n",
       "2005-01-06  118.440002  119.150002  118.260002  118.610001  83.074875   \n",
       "2005-01-07  118.970001  119.230003  118.129997  118.440002  82.955856   \n",
       "\n",
       "              Volume  \n",
       "Date                  \n",
       "2005-01-03  55748000  \n",
       "2005-01-04  69167600  \n",
       "2005-01-05  65667300  \n",
       "2005-01-06  47814700  \n",
       "2005-01-07  55847700  "
      ]
     },
     "execution_count": 7,
     "metadata": {},
     "output_type": "execute_result"
    }
   ],
   "source": [
    "df.head()"
   ]
  },
  {
   "cell_type": "code",
   "execution_count": 8,
   "metadata": {},
   "outputs": [
    {
     "data": {
      "text/html": [
       "<div>\n",
       "<style scoped>\n",
       "    .dataframe tbody tr th:only-of-type {\n",
       "        vertical-align: middle;\n",
       "    }\n",
       "\n",
       "    .dataframe tbody tr th {\n",
       "        vertical-align: top;\n",
       "    }\n",
       "\n",
       "    .dataframe thead th {\n",
       "        text-align: right;\n",
       "    }\n",
       "</style>\n",
       "<table border=\"1\" class=\"dataframe\">\n",
       "  <thead>\n",
       "    <tr style=\"text-align: right;\">\n",
       "      <th></th>\n",
       "      <th>Open</th>\n",
       "      <th>High</th>\n",
       "      <th>Low</th>\n",
       "      <th>Close</th>\n",
       "      <th>Adj Close</th>\n",
       "      <th>Volume</th>\n",
       "    </tr>\n",
       "  </thead>\n",
       "  <tbody>\n",
       "    <tr>\n",
       "      <th>2005-01-03</th>\n",
       "      <td>121.559998</td>\n",
       "      <td>121.760002</td>\n",
       "      <td>119.900002</td>\n",
       "      <td>120.300003</td>\n",
       "      <td>84.258591</td>\n",
       "      <td>55748000</td>\n",
       "    </tr>\n",
       "    <tr>\n",
       "      <th>2005-01-04</th>\n",
       "      <td>120.459999</td>\n",
       "      <td>120.540001</td>\n",
       "      <td>118.440002</td>\n",
       "      <td>118.830002</td>\n",
       "      <td>83.228981</td>\n",
       "      <td>69167600</td>\n",
       "    </tr>\n",
       "    <tr>\n",
       "      <th>2005-01-05</th>\n",
       "      <td>118.739998</td>\n",
       "      <td>119.250000</td>\n",
       "      <td>118.000000</td>\n",
       "      <td>118.010002</td>\n",
       "      <td>82.654648</td>\n",
       "      <td>65667300</td>\n",
       "    </tr>\n",
       "    <tr>\n",
       "      <th>2005-01-06</th>\n",
       "      <td>118.440002</td>\n",
       "      <td>119.150002</td>\n",
       "      <td>118.260002</td>\n",
       "      <td>118.610001</td>\n",
       "      <td>83.074875</td>\n",
       "      <td>47814700</td>\n",
       "    </tr>\n",
       "    <tr>\n",
       "      <th>2005-01-07</th>\n",
       "      <td>118.970001</td>\n",
       "      <td>119.230003</td>\n",
       "      <td>118.129997</td>\n",
       "      <td>118.440002</td>\n",
       "      <td>82.955856</td>\n",
       "      <td>55847700</td>\n",
       "    </tr>\n",
       "  </tbody>\n",
       "</table>\n",
       "</div>"
      ],
      "text/plain": [
       "                  Open        High         Low       Close  Adj Close  \\\n",
       "2005-01-03  121.559998  121.760002  119.900002  120.300003  84.258591   \n",
       "2005-01-04  120.459999  120.540001  118.440002  118.830002  83.228981   \n",
       "2005-01-05  118.739998  119.250000  118.000000  118.010002  82.654648   \n",
       "2005-01-06  118.440002  119.150002  118.260002  118.610001  83.074875   \n",
       "2005-01-07  118.970001  119.230003  118.129997  118.440002  82.955856   \n",
       "\n",
       "              Volume  \n",
       "2005-01-03  55748000  \n",
       "2005-01-04  69167600  \n",
       "2005-01-05  65667300  \n",
       "2005-01-06  47814700  \n",
       "2005-01-07  55847700  "
      ]
     },
     "execution_count": 8,
     "metadata": {},
     "output_type": "execute_result"
    }
   ],
   "source": [
    "df.index = df.index.date\n",
    "df.head()"
   ]
  },
  {
   "cell_type": "markdown",
   "metadata": {},
   "source": [
    "## Daily Returns"
   ]
  },
  {
   "cell_type": "code",
   "execution_count": 9,
   "metadata": {},
   "outputs": [
    {
     "data": {
      "text/html": [
       "<div>\n",
       "<style scoped>\n",
       "    .dataframe tbody tr th:only-of-type {\n",
       "        vertical-align: middle;\n",
       "    }\n",
       "\n",
       "    .dataframe tbody tr th {\n",
       "        vertical-align: top;\n",
       "    }\n",
       "\n",
       "    .dataframe thead th {\n",
       "        text-align: right;\n",
       "    }\n",
       "</style>\n",
       "<table border=\"1\" class=\"dataframe\">\n",
       "  <thead>\n",
       "    <tr style=\"text-align: right;\">\n",
       "      <th></th>\n",
       "      <th>Open</th>\n",
       "      <th>High</th>\n",
       "      <th>Low</th>\n",
       "      <th>Close</th>\n",
       "      <th>Adj Close</th>\n",
       "      <th>Volume</th>\n",
       "      <th>R</th>\n",
       "    </tr>\n",
       "  </thead>\n",
       "  <tbody>\n",
       "    <tr>\n",
       "      <th>2005-01-03</th>\n",
       "      <td>121.559998</td>\n",
       "      <td>121.760002</td>\n",
       "      <td>119.900002</td>\n",
       "      <td>120.300003</td>\n",
       "      <td>84.258591</td>\n",
       "      <td>55748000</td>\n",
       "      <td>NaN</td>\n",
       "    </tr>\n",
       "    <tr>\n",
       "      <th>2005-01-04</th>\n",
       "      <td>120.459999</td>\n",
       "      <td>120.540001</td>\n",
       "      <td>118.440002</td>\n",
       "      <td>118.830002</td>\n",
       "      <td>83.228981</td>\n",
       "      <td>69167600</td>\n",
       "      <td>-0.012220</td>\n",
       "    </tr>\n",
       "    <tr>\n",
       "      <th>2005-01-05</th>\n",
       "      <td>118.739998</td>\n",
       "      <td>119.250000</td>\n",
       "      <td>118.000000</td>\n",
       "      <td>118.010002</td>\n",
       "      <td>82.654648</td>\n",
       "      <td>65667300</td>\n",
       "      <td>-0.006901</td>\n",
       "    </tr>\n",
       "  </tbody>\n",
       "</table>\n",
       "</div>"
      ],
      "text/plain": [
       "                  Open        High         Low       Close  Adj Close  \\\n",
       "2005-01-03  121.559998  121.760002  119.900002  120.300003  84.258591   \n",
       "2005-01-04  120.459999  120.540001  118.440002  118.830002  83.228981   \n",
       "2005-01-05  118.739998  119.250000  118.000000  118.010002  82.654648   \n",
       "\n",
       "              Volume         R  \n",
       "2005-01-03  55748000       NaN  \n",
       "2005-01-04  69167600 -0.012220  \n",
       "2005-01-05  65667300 -0.006901  "
      ]
     },
     "execution_count": 9,
     "metadata": {},
     "output_type": "execute_result"
    }
   ],
   "source": [
    "df[\"R\"] = df[\"Adj Close\"].pct_change()\n",
    "df.head(3)"
   ]
  },
  {
   "cell_type": "code",
   "execution_count": 10,
   "metadata": {},
   "outputs": [
    {
     "data": {
      "text/plain": [
       "Text(0.5, 1.0, 'Daily Returns distribution')"
      ]
     },
     "execution_count": 10,
     "metadata": {},
     "output_type": "execute_result"
    },
    {
     "data": {
      "image/png": "[encoded data removed]",
      "text/plain": [
       "<Figure size 432x288 with 1 Axes>"
      ]
     },
     "metadata": {
      "needs_background": "light"
     },
     "output_type": "display_data"
    }
   ],
   "source": [
    "ax = df.R.hist(bins=50)\n",
    "ax.set_title(\"Daily Returns distribution\")"
   ]
  },
  {
   "cell_type": "code",
   "execution_count": 13,
   "metadata": {},
   "outputs": [
    {
     "data": {
      "text/plain": [
       "0.0   -0.109424\n",
       "0.1   -0.011884\n",
       "0.2   -0.006132\n",
       "0.3   -0.002823\n",
       "0.4   -0.000833\n",
       "0.5    0.000679\n",
       "0.6    0.002425\n",
       "0.7    0.004507\n",
       "0.8    0.007463\n",
       "0.9    0.012112\n",
       "1.0    0.145198\n",
       "Name: R, dtype: float64"
      ]
     },
     "execution_count": 13,
     "metadata": {},
     "output_type": "execute_result"
    }
   ],
   "source": [
    "breaks = np.arange(0,1.1,0.1)\n",
    "df.R.quantile(breaks)"
   ]
  },
  {
   "cell_type": "markdown",
   "metadata": {},
   "source": [
    "## Monthly returns "
   ]
  },
  {
   "cell_type": "code",
   "execution_count": null,
   "metadata": {},
   "outputs": [],
   "source": [
    "df.index = pd.datetime()"
   ]
  }
 ],
 "metadata": {
  "kernelspec": {
   "display_name": "Python 3 (ipykernel)",
   "language": "python",
   "name": "python3"
  },
  "language_info": {
   "codemirror_mode": {
    "name": "ipython",
    "version": 3
   },
   "file_extension": ".py",
   "mimetype": "text/x-python",
   "name": "python",
   "nbconvert_exporter": "python",
   "pygments_lexer": "ipython3",
   "version": "3.9.12"
  }
 },
 "nbformat": 4,
 "nbformat_minor": 2
}
